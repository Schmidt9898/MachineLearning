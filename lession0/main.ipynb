{
 "cells": [
  {
   "cell_type": "code",
   "execution_count": 5,
   "metadata": {},
   "outputs": [],
   "source": [
    "import numpy as np\n",
    "import pandas as pd\n",
    "\n",
    "\n",
    "\n",
    "data = pd.read_csv(\"./data/heart_disease.csv\")\n",
    "npfiles = np.load(\"./data/affine2.npz\")\n",
    "\n",
    "\n"
   ]
  },
  {
   "cell_type": "code",
   "execution_count": 13,
   "metadata": {},
   "outputs": [
    {
     "name": "stdout",
     "output_type": "stream",
     "text": [
      "['X', 'X_test', 'Y', 'Y_test', 'answer']\n"
     ]
    }
   ],
   "source": [
    "print(npfiles.files)\n",
    "X = npfiles[\"X\"]\n",
    "Y = npfiles[\"Y\"]\n",
    "answer = npfiles[\"answer\"]\n",
    "X_test = npfiles[\"X_test\"]\n",
    "Y_test = npfiles[\"Y_test\"]"
   ]
  },
  {
   "cell_type": "code",
   "execution_count": null,
   "metadata": {},
   "outputs": [],
   "source": [
    "\n",
    "def Linereg(X,W):\n",
    "\ty=0\n",
    "\tfor i in range(len(X)):\n",
    "\t\ty += W[i]*X[i] \n",
    "\treturn y\n",
    "\n",
    "def Linefit(X,Y)"
   ]
  }
 ],
 "metadata": {
  "kernelspec": {
   "display_name": "Python 3",
   "language": "python",
   "name": "python3"
  },
  "language_info": {
   "codemirror_mode": {
    "name": "ipython",
    "version": 3
   },
   "file_extension": ".py",
   "mimetype": "text/x-python",
   "name": "python",
   "nbconvert_exporter": "python",
   "pygments_lexer": "ipython3",
   "version": "3.10.6"
  },
  "orig_nbformat": 4
 },
 "nbformat": 4,
 "nbformat_minor": 2
}
